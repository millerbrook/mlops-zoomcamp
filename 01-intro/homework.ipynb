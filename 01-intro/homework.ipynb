{
 "cells": [
  {
   "cell_type": "code",
   "execution_count": 10,
   "id": "887be49d",
   "metadata": {},
   "outputs": [
    {
     "name": "stdout",
     "output_type": "stream",
     "text": [
      "Python 3.9.12\n"
     ]
    }
   ],
   "source": [
    "!python -V"
   ]
  },
  {
   "cell_type": "code",
   "execution_count": 1,
   "id": "7b6ab434",
   "metadata": {},
   "outputs": [],
   "source": [
    "import pandas as pd"
   ]
  },
  {
   "cell_type": "code",
   "execution_count": 2,
   "id": "37fbaf9a",
   "metadata": {},
   "outputs": [],
   "source": [
    "import seaborn as sns\n",
    "import matplotlib.pyplot as plt"
   ]
  },
  {
   "cell_type": "code",
   "execution_count": 3,
   "id": "60bbbfd1",
   "metadata": {},
   "outputs": [],
   "source": [
    "import pickle"
   ]
  },
  {
   "cell_type": "code",
   "execution_count": 4,
   "id": "8f95560e",
   "metadata": {},
   "outputs": [],
   "source": [
    "from sklearn.feature_extraction import DictVectorizer\n",
    "from sklearn.linear_model import LinearRegression\n",
    "from sklearn.linear_model import Lasso\n",
    "from sklearn.linear_model import Ridge\n",
    "\n",
    "from sklearn.metrics import mean_squared_error"
   ]
  },
  {
   "cell_type": "code",
   "execution_count": 5,
   "id": "baf3b8fc",
   "metadata": {},
   "outputs": [],
   "source": [
    "df_jan23 = pd.read_parquet('https://d37ci6vzurychx.cloudfront.net/trip-data/yellow_tripdata_2023-01.parquet')\n",
    "df_feb23 = pd.read_parquet('https://d37ci6vzurychx.cloudfront.net/trip-data/yellow_tripdata_2023-02.parquet')"
   ]
  },
  {
   "cell_type": "code",
   "execution_count": 6,
   "id": "fd579aa2",
   "metadata": {},
   "outputs": [
    {
     "data": {
      "text/plain": [
       "19"
      ]
     },
     "execution_count": 6,
     "metadata": {},
     "output_type": "execute_result"
    }
   ],
   "source": [
    "#Question 1\n",
    "len(df_jan23.columns) #answer: 19"
   ]
  },
  {
   "cell_type": "code",
   "execution_count": 7,
   "id": "96391edc",
   "metadata": {},
   "outputs": [],
   "source": [
    "df_jan23['duration'] = df_jan23.tpep_dropoff_datetime - df_jan23.tpep_pickup_datetime\n",
    "df_jan23.duration = df_jan23.duration.apply(lambda td: td.total_seconds() / 60)\n",
    "\n",
    "df_feb23['duration'] = df_feb23.tpep_dropoff_datetime - df_feb23.tpep_pickup_datetime\n",
    "df_feb23.duration = df_feb23.duration.apply(lambda td: td.total_seconds() / 60)\n"
   ]
  },
  {
   "cell_type": "code",
   "execution_count": 8,
   "id": "665c29e3",
   "metadata": {},
   "outputs": [
    {
     "data": {
      "text/plain": [
       "42.594351241920904"
      ]
     },
     "execution_count": 8,
     "metadata": {},
     "output_type": "execute_result"
    }
   ],
   "source": [
    "#Question 2\n",
    "df_jan23['duration'].describe()['std'] #answer: 42.59"
   ]
  },
  {
   "cell_type": "code",
   "execution_count": 9,
   "id": "28cf7229",
   "metadata": {},
   "outputs": [
    {
     "name": "stdout",
     "output_type": "stream",
     "text": [
      "Percentage left: 98.12%\n"
     ]
    }
   ],
   "source": [
    "#Question 3\n",
    "initial_size = len(df_jan23)\n",
    "df_jan23 = df_jan23[(df_jan23.duration >= 1) & (df_jan23.duration <= 60)]\n",
    "df_feb23 = df_feb23[(df_feb23.duration >= 1) & (df_feb23.duration <= 60)]\n",
    "after_size = len(df_jan23)\n",
    "print(f'Percentage left: {after_size/initial_size * 100:.2f}%') #answer: 98.12%\n"
   ]
  },
  {
   "cell_type": "code",
   "execution_count": 10,
   "id": "1df8df00",
   "metadata": {},
   "outputs": [],
   "source": [
    "categorical = ['PULocationID', 'DOLocationID']\n",
    "numerical = ['trip_distance']\n",
    "\n",
    "df_jan23[categorical] = df_jan23[categorical].astype(str)\n",
    "df_feb23[categorical] = df_feb23[categorical].astype(str)"
   ]
  },
  {
   "cell_type": "code",
   "execution_count": 11,
   "id": "01cb9739",
   "metadata": {},
   "outputs": [],
   "source": [
    "train_dicts = df_jan23[categorical + numerical].to_dict(orient='records')\n",
    "val_dicts = df_feb23[categorical + numerical].to_dict(orient='records')"
   ]
  },
  {
   "cell_type": "code",
   "execution_count": 12,
   "id": "1b51ba9e",
   "metadata": {},
   "outputs": [],
   "source": [
    "dv = DictVectorizer()\n",
    "X_train = dv.fit_transform(train_dicts)\n",
    "y_train = df_jan23['duration'].values"
   ]
  },
  {
   "cell_type": "code",
   "execution_count": 13,
   "id": "1030cb50",
   "metadata": {},
   "outputs": [
    {
     "data": {
      "text/plain": [
       "516"
      ]
     },
     "execution_count": 13,
     "metadata": {},
     "output_type": "execute_result"
    }
   ],
   "source": [
    "#Question 4:\n",
    "X_train.shape[1]"
   ]
  },
  {
   "cell_type": "code",
   "execution_count": 14,
   "id": "f0a96c4e",
   "metadata": {},
   "outputs": [
    {
     "name": "stdout",
     "output_type": "stream",
     "text": [
      "RMSE: 7.65\n"
     ]
    }
   ],
   "source": [
    "#Question 5\n",
    "lr = LinearRegression()\n",
    "lr.fit(X_train, y_train)\n",
    "\n",
    "y_pred = lr.predict(X_train)\n",
    "mse = mean_squared_error(y_train, y_pred, squared=False)\n",
    "print(f'RMSE: {mse:.2f}') #answer: 7.65"
   ]
  },
  {
   "cell_type": "code",
   "execution_count": 15,
   "id": "61e1bdfa",
   "metadata": {},
   "outputs": [
    {
     "name": "stdout",
     "output_type": "stream",
     "text": [
      "Validation RMSE: 7.81\n"
     ]
    }
   ],
   "source": [
    "#Question 6:\n",
    "X_val = dv.transform(val_dicts)\n",
    "y_val = df_feb23['duration'].values\n",
    "y_pred = lr.predict(X_val)\n",
    "mse = mean_squared_error(y_val, y_pred, squared=False)\n",
    "print(f'Validation RMSE: {mse:.2f}') #answer: 7.64\n"
   ]
  }
 ],
 "metadata": {
  "kernelspec": {
   "display_name": "base_mlops",
   "language": "python",
   "name": "python3"
  },
  "language_info": {
   "codemirror_mode": {
    "name": "ipython",
    "version": 3
   },
   "file_extension": ".py",
   "mimetype": "text/x-python",
   "name": "python",
   "nbconvert_exporter": "python",
   "pygments_lexer": "ipython3",
   "version": "3.9.12"
  }
 },
 "nbformat": 4,
 "nbformat_minor": 5
}
